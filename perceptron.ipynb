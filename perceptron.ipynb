{
  "nbformat": 4,
  "nbformat_minor": 0,
  "metadata": {
    "colab": {
      "name": "perceptron.ipynb",
      "version": "0.3.2",
      "provenance": [],
      "collapsed_sections": []
    },
    "kernelspec": {
      "name": "python3",
      "display_name": "Python 3"
    }
  },
  "cells": [
    {
      "metadata": {
        "id": "q7GooG70r94X",
        "colab_type": "code",
        "colab": {}
      },
      "cell_type": "code",
      "source": [
        "\n",
        "import numpy as np\n",
        "\n",
        "W= [1,-1,0]\n",
        "X= [[1,0,1],[0,-1,-1],[-1,-0.5,-1]]\n",
        "Y=[-1,1,1]\n",
        "pred_lbl=[]\n",
        "\n",
        "#for i in range (0,3):\n",
        " # \n",
        "#print(bcd)  \n",
        "  ##X[0]\n",
        "#h = np.dot(W,X[0])\n",
        "#h = sum(np.transpose(W)*X[0])\n",
        "#print(h)\n",
        "flag = False "
      ],
      "execution_count": 0,
      "outputs": []
    },
    {
      "metadata": {
        "id": "YiBGe4_jw6Y2",
        "colab_type": "code",
        "colab": {}
      },
      "cell_type": "code",
      "source": [
        "def SignFunc(h):\n",
        "  if h>=0:\n",
        "    return 1\n",
        "  else:\n",
        "    return -1"
      ],
      "execution_count": 0,
      "outputs": []
    },
    {
      "metadata": {
        "id": "wFcJQoNWxbXL",
        "colab_type": "code",
        "colab": {}
      },
      "cell_type": "code",
      "source": [
        "def UpdateWeight(t,o,W,X):\n",
        "  eta=0.1\n",
        "  for i in range(len(W)):\n",
        "    W[i]=W[i]+ eta*(t-o)*X[i]\n",
        "  return W  \n",
        "    "
      ],
      "execution_count": 0,
      "outputs": []
    },
    {
      "metadata": {
        "id": "OcJaICgjtBsk",
        "colab_type": "code",
        "outputId": "60d0af2b-4eda-4f14-e60d-341d6984ba3e",
        "colab": {
          "base_uri": "https://localhost:8080/",
          "height": 35
        }
      },
      "cell_type": "code",
      "source": [
        "while(flag != True):\n",
        "  del pred_lbl[:]\n",
        "  for i in range(len(X[0])):\n",
        "    h = sum(np.transpose(W)*X[i])\n",
        "    #print(i,len(X[0]))\n",
        "    pred_lbl.insert(i,SignFunc(h))\n",
        "    \n",
        "    if pred_lbl[i] != Y[i]:\n",
        "      t=Y[i]\n",
        "      o=pred_lbl[i]\n",
        "      W=UpdateWeight(t,o,W,X[i])\n",
        "\n",
        "  count=0\n",
        "  for i in range (len(Y)):\n",
        "    \n",
        "    if Y[i] == pred_lbl[i]:\n",
        "      count=count+1\n",
        "    if count == len(Y):\n",
        "      flag=True\n",
        "    \n",
        "\n",
        "print(W)    \n",
        "\n"
      ],
      "execution_count": 0,
      "outputs": [
        {
          "output_type": "stream",
          "text": [
            "[0.4000000000000001, -1.1, -0.6000000000000001]\n"
          ],
          "name": "stdout"
        }
      ]
    },
    {
      "metadata": {
        "id": "OYjCUqLHwGrG",
        "colab_type": "code",
        "outputId": "35c95462-1711-4eb7-eb3a-c2a27ff6f45c",
        "colab": {
          "base_uri": "https://localhost:8080/",
          "height": 35
        }
      },
      "cell_type": "code",
      "source": [
        ""
      ],
      "execution_count": 0,
      "outputs": [
        {
          "output_type": "execute_result",
          "data": {
            "text/plain": [
              "3"
            ]
          },
          "metadata": {
            "tags": []
          },
          "execution_count": 10
        }
      ]
    },
    {
      "metadata": {
        "id": "mOYya1TmwJPY",
        "colab_type": "code",
        "colab": {}
      },
      "cell_type": "code",
      "source": [
        ""
      ],
      "execution_count": 0,
      "outputs": []
    }
  ]
}